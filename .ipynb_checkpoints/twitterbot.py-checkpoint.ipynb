{
 "cells": [
  {
   "cell_type": "markdown",
   "metadata": {},
   "source": [
    "import tweepy\n",
    "import logging\n",
    "import time\n",
    "import random\n",
    "\n",
    "logging.basicConfig(level=logging.INFO)\n",
    "logger = logging.getLogger()"
   ]
  },
  {
   "cell_type": "markdown",
   "metadata": {},
   "source": [
    "# Import the script that creates the Twitter API"
   ]
  },
  {
   "cell_type": "code",
   "execution_count": null,
   "metadata": {},
   "outputs": [],
   "source": [
    "from config import create_api\n",
    "api = create_api()"
   ]
  },
  {
   "cell_type": "markdown",
   "metadata": {},
   "source": [
    "# Like any tweets with any one username mentioned in the text "
   ]
  },
  {
   "cell_type": "code",
   "execution_count": null,
   "metadata": {},
   "outputs": [],
   "source": [
    "def fav_retweet(api):\n",
    "    logger.info('Retrieving tweets...')\n",
    "    mentions = api.mentions_timeline(tweet_mode = 'extended')\n",
    "    for mention in reversed(mentions):\n",
    "        if mention.in_reply_to_status_id is not None or mention.user.id == api.me().id:\n",
    "            # This tweet is a reply or I'm its author so, ignore it\n",
    "            return\n",
    "        \n",
    "        if not mention.favorited:\n",
    "            # Mark it as Liked, since we have not done it yet\n",
    "            try:\n",
    "                mention.favorite()\n",
    "                logger.info(f\"Liked tweet by {user name}\")\n",
    "            except Exception as e:\n",
    "                logger.error(\"Error on fav\", exc_info=True)"
   ]
  },
  {
   "cell_type": "markdown",
   "metadata": {},
   "source": [
    "# Add a time lapse or else bot will not behave like humanoid behaviour bot and twitter will block you just for proper use"
   ]
  },
  {
   "cell_type": "code",
   "execution_count": null,
   "metadata": {},
   "outputs": [],
   "source": [
    "while True:\n",
    "    fav_retweet(api)\n",
    "    logger.info(\"Waiting...\")\n",
    "    time.sleep(30)\n"
   ]
  },
  {
   "cell_type": "markdown",
   "metadata": {},
   "source": [
    "# like and retweet the any mentioned hashtag from user account"
   ]
  },
  {
   "cell_type": "code",
   "execution_count": null,
   "metadata": {},
   "outputs": [],
   "source": [
    "def retweet_tweets_with_hashtag(api, need_hashtags):\n",
    "    if type(need_hashtags) is list:\n",
    "        search_query = f\"{need_hashtags} -filter:retweets\"\n",
    "        tweets = api.search(q=search_query, lang =\"en\", tweet_mode='extended')\n",
    "        for tweet in tweets:\n",
    "            hashtags = [i['text'].lower() for i in tweet.__dict__['entities']['hashtags']]\n",
    "            try:\n",
    "                need_hashtags = [hashtag.strip('#') for hashtag in need_hashtags]\n",
    "                need_hashtags = list(need_hashtags)\n",
    "                if set(hashtags) & set(need_hashtags):\n",
    "                    if tweet.user.id != api.me().id:\n",
    "                        api.retweet(tweet.id)\n",
    "                        logger.info(f\"Retweeted tweet from {username}\")\n",
    "                        time.sleep(5)\n",
    "            except tweepy.TweepError:\n",
    "                logger.error(\"Error on retweet\", exc_info=True)\n",
    "    else:\n",
    "        logger.error(\"Hashtag search terms needs to be of type list\", exc_info=True) \n",
    "        return"
   ]
  },
  {
   "cell_type": "markdown",
   "metadata": {},
   "source": [
    "# We can test to see if this works by retweeting any tweets that mention the hashtag #main"
   ]
  },
  {
   "cell_type": "code",
   "execution_count": null,
   "metadata": {},
   "outputs": [],
   "source": [
    "while True:\n",
    "        retweet_tweets_with_hashtag(api, [\"#manim\"]) #example manim word from my twitter \n",
    "        logger.info(\"Waiting...\")\n",
    "        time.sleep(30)\n"
   ]
  }
 ],
 "metadata": {
  "kernelspec": {
   "display_name": "Python 3",
   "language": "python",
   "name": "python3"
  },
  "language_info": {
   "codemirror_mode": {
    "name": "ipython",
    "version": 3
   },
   "file_extension": ".py",
   "mimetype": "text/x-python",
   "name": "python",
   "nbconvert_exporter": "python",
   "pygments_lexer": "ipython3",
   "version": "3.7.6"
  }
 },
 "nbformat": 4,
 "nbformat_minor": 4
}
